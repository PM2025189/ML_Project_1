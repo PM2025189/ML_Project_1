{
 "cells": [
  {
   "cell_type": "code",
   "execution_count": null,
   "id": "249bad77",
   "metadata": {},
   "outputs": [],
   "source": [
    "**Artifacts loaded**\n",
    "- EDA base: `{PATH_BASE_CSV.as_posix()}`\n",
    "- Backtest metrics: `{PATH_METRICS.as_posix()}`\n",
    "- Predictions t+1: `{PATH_PREDS.as_posix()}`\n",
    "- Trained model: `{PATH_MODEL.as_posix()}`\n",
    "\"\"\")"
   ]
  }
 ],
 "metadata": {
  "language_info": {
   "name": "python"
  }
 },
 "nbformat": 4,
 "nbformat_minor": 5
}
