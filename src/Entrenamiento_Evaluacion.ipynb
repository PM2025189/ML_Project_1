{
 "cells": [
  {
   "cell_type": "code",
   "execution_count": 40,
   "id": "228f703e",
   "metadata": {},
   "outputs": [],
   "source": [
    "import pandas as pd\n",
    "import numpy as np\n",
    "import matplotlib.pyplot as plt\n",
    "import seaborn as sns\n",
    "from sklearn.metrics import mean_squared_error\n",
    "from sklearn.pipeline import Pipeline\n",
    "from sklearn.impute import SimpleImputer\n",
    "from sklearn.ensemble import RandomForestRegressor\n",
    "from sklearn.metrics import mean_squared_error\n",
    "from pathlib import Path\n",
    "import joblib"
   ]
  },
  {
   "cell_type": "code",
   "execution_count": 7,
   "id": "f2d4f069",
   "metadata": {},
   "outputs": [],
   "source": [
    "df_base = pd.read_csv('/Users/pm/Documents/GitHub/ML_Project_1/data/processed/df_wdi_clean_base.csv')"
   ]
  },
  {
   "cell_type": "code",
   "execution_count": 8,
   "id": "ad4d9d36",
   "metadata": {},
   "outputs": [
    {
     "name": "stdout",
     "output_type": "stream",
     "text": [
      "Columns: ['country_code', 'year', 'Access to electricity (% of population)', 'Current health expenditure (% of GDP)', 'Current health expenditure per capita (current US$)', 'Government expenditure on education, total (% of GDP)', 'Hospital beds (per 1,000 people)', 'Immunization, DPT (% of children ages 12-23 months)', 'Literacy rate, adult total (% of people ages 15 and above)', 'Mortality rate, infant (per 1,000 live births)', 'School enrollment, primary and secondary (gross), gender parity index (GPI)', 'health_exp_share', 'log1p_health_exp_pc', 'GDP_pc_imputed', 'y_t1', 'Mortality rate, infant (per 1,000 live births)_lag1', 'Access to electricity (% of population)_lag1', 'Current health expenditure (% of GDP)_lag1', 'Current health expenditure per capita (current US$)_lag1', 'GDP_pc_imputed_lag1', 'Government expenditure on education, total (% of GDP)_lag1', 'Hospital beds (per 1,000 people)_lag1', 'Immunization, DPT (% of children ages 12-23 months)_lag1', 'Literacy rate, adult total (% of people ages 15 and above)_lag1', 'Mortality rate, infant (per 1,000 live births)_lag1_lag1', 'School enrollment, primary and secondary (gross), gender parity index (GPI)_lag1', 'health_exp_share_lag1', 'log1p_health_exp_pc_lag1', 'Access to electricity (% of population)_yoy', 'Current health expenditure (% of GDP)_yoy', 'Current health expenditure per capita (current US$)_yoy', 'GDP_pc_imputed_yoy', 'Government expenditure on education, total (% of GDP)_yoy', 'Hospital beds (per 1,000 people)_yoy', 'Immunization, DPT (% of children ages 12-23 months)_yoy', 'Literacy rate, adult total (% of people ages 15 and above)_yoy', 'Mortality rate, infant (per 1,000 live births)_lag1_yoy', 'School enrollment, primary and secondary (gross), gender parity index (GPI)_yoy', 'health_exp_share_yoy', 'log1p_health_exp_pc_yoy', 'Access to electricity (% of population)_roll3', 'Current health expenditure (% of GDP)_roll3', 'Current health expenditure per capita (current US$)_roll3', 'GDP_pc_imputed_roll3', 'Government expenditure on education, total (% of GDP)_roll3', 'Hospital beds (per 1,000 people)_roll3', 'Immunization, DPT (% of children ages 12-23 months)_roll3', 'Literacy rate, adult total (% of people ages 15 and above)_roll3', 'Mortality rate, infant (per 1,000 live births)_lag1_roll3', 'School enrollment, primary and secondary (gross), gender parity index (GPI)_roll3', 'health_exp_share_roll3', 'log1p_health_exp_pc_roll3', 'Access to electricity (% of population)_lag1_lag1', 'Access to electricity (% of population)_roll3_lag1', 'Access to electricity (% of population)_yoy_lag1', 'Current health expenditure (% of GDP)_lag1_lag1', 'Current health expenditure (% of GDP)_roll3_lag1', 'Current health expenditure (% of GDP)_yoy_lag1', 'Current health expenditure per capita (current US$)_lag1_lag1', 'Current health expenditure per capita (current US$)_roll3_lag1', 'Current health expenditure per capita (current US$)_yoy_lag1', 'GDP_pc_imputed_lag1_lag1', 'GDP_pc_imputed_roll3_lag1', 'GDP_pc_imputed_yoy_lag1', 'Government expenditure on education, total (% of GDP)_lag1_lag1', 'Government expenditure on education, total (% of GDP)_roll3_lag1', 'Government expenditure on education, total (% of GDP)_yoy_lag1', 'Hospital beds (per 1,000 people)_lag1_lag1', 'Hospital beds (per 1,000 people)_roll3_lag1', 'Hospital beds (per 1,000 people)_yoy_lag1', 'Immunization, DPT (% of children ages 12-23 months)_lag1_lag1', 'Immunization, DPT (% of children ages 12-23 months)_roll3_lag1', 'Immunization, DPT (% of children ages 12-23 months)_yoy_lag1', 'Literacy rate, adult total (% of people ages 15 and above)_lag1_lag1', 'Literacy rate, adult total (% of people ages 15 and above)_roll3_lag1', 'Literacy rate, adult total (% of people ages 15 and above)_yoy_lag1', 'Mortality rate, infant (per 1,000 live births)_lag1_lag1_lag1', 'Mortality rate, infant (per 1,000 live births)_lag1_roll3_lag1', 'Mortality rate, infant (per 1,000 live births)_lag1_yoy_lag1', 'School enrollment, primary and secondary (gross), gender parity index (GPI)_lag1_lag1', 'School enrollment, primary and secondary (gross), gender parity index (GPI)_roll3_lag1', 'School enrollment, primary and secondary (gross), gender parity index (GPI)_yoy_lag1', 'health_exp_share_lag1_lag1', 'health_exp_share_roll3_lag1', 'health_exp_share_yoy_lag1', 'log1p_health_exp_pc_lag1_lag1', 'log1p_health_exp_pc_roll3_lag1', 'log1p_health_exp_pc_yoy_lag1', 'Access to electricity (% of population)_yoy.1', 'Access to electricity (% of population)_lag1_yoy', 'Access to electricity (% of population)_roll3_yoy', 'Access to electricity (% of population)_yoy_yoy', 'Current health expenditure (% of GDP)_yoy.1', 'Current health expenditure (% of GDP)_lag1_yoy', 'Current health expenditure (% of GDP)_roll3_yoy', 'Current health expenditure (% of GDP)_yoy_yoy', 'Current health expenditure per capita (current US$)_yoy.1', 'Current health expenditure per capita (current US$)_lag1_yoy', 'Current health expenditure per capita (current US$)_roll3_yoy', 'Current health expenditure per capita (current US$)_yoy_yoy', 'GDP_pc_imputed_yoy.1', 'GDP_pc_imputed_lag1_yoy', 'GDP_pc_imputed_roll3_yoy', 'GDP_pc_imputed_yoy_yoy', 'Government expenditure on education, total (% of GDP)_yoy.1', 'Government expenditure on education, total (% of GDP)_lag1_yoy', 'Government expenditure on education, total (% of GDP)_roll3_yoy', 'Government expenditure on education, total (% of GDP)_yoy_yoy', 'Hospital beds (per 1,000 people)_yoy.1', 'Hospital beds (per 1,000 people)_lag1_yoy', 'Hospital beds (per 1,000 people)_roll3_yoy', 'Hospital beds (per 1,000 people)_yoy_yoy', 'Immunization, DPT (% of children ages 12-23 months)_yoy.1', 'Immunization, DPT (% of children ages 12-23 months)_lag1_yoy', 'Immunization, DPT (% of children ages 12-23 months)_roll3_yoy', 'Immunization, DPT (% of children ages 12-23 months)_yoy_yoy', 'Literacy rate, adult total (% of people ages 15 and above)_yoy.1', 'Literacy rate, adult total (% of people ages 15 and above)_lag1_yoy', 'Literacy rate, adult total (% of people ages 15 and above)_roll3_yoy', 'Literacy rate, adult total (% of people ages 15 and above)_yoy_yoy', 'Mortality rate, infant (per 1,000 live births)_lag1_yoy.1', 'Mortality rate, infant (per 1,000 live births)_lag1_lag1_yoy', 'Mortality rate, infant (per 1,000 live births)_lag1_roll3_yoy', 'Mortality rate, infant (per 1,000 live births)_lag1_yoy_yoy', 'School enrollment, primary and secondary (gross), gender parity index (GPI)_yoy.1', 'School enrollment, primary and secondary (gross), gender parity index (GPI)_lag1_yoy', 'School enrollment, primary and secondary (gross), gender parity index (GPI)_roll3_yoy', 'School enrollment, primary and secondary (gross), gender parity index (GPI)_yoy_yoy', 'health_exp_share_yoy.1', 'health_exp_share_lag1_yoy', 'health_exp_share_roll3_yoy', 'health_exp_share_yoy_yoy', 'log1p_health_exp_pc_yoy.1', 'log1p_health_exp_pc_lag1_yoy', 'log1p_health_exp_pc_roll3_yoy', 'log1p_health_exp_pc_yoy_yoy']\n",
      "Shape: (3255, 136)\n",
      "\n",
      "Types :\n",
      "country_code                                            object\n",
      "year                                                     int64\n",
      "Access to electricity (% of population)                float64\n",
      "Current health expenditure (% of GDP)                  float64\n",
      "Current health expenditure per capita (current US$)    float64\n",
      "                                                        ...   \n",
      "health_exp_share_yoy_yoy                               float64\n",
      "log1p_health_exp_pc_yoy.1                              float64\n",
      "log1p_health_exp_pc_lag1_yoy                           float64\n",
      "log1p_health_exp_pc_roll3_yoy                          float64\n",
      "log1p_health_exp_pc_yoy_yoy                            float64\n",
      "Length: 136, dtype: object\n",
      "\n",
      "NA par colonne (desc) :\n",
      "Literacy rate, adult total (% of people ages 15 and above)_yoy_yoy                     2662\n",
      "School enrollment, primary and secondary (gross), gender parity index (GPI)_yoy_yoy    2355\n",
      "Hospital beds (per 1,000 people)_yoy_yoy                                               1767\n",
      "Access to electricity (% of population)_yoy_yoy                                        1723\n",
      "Immunization, DPT (% of children ages 12-23 months)_yoy_yoy                            1592\n",
      "                                                                                       ... \n",
      "Mortality rate, infant (per 1,000 live births)                                           15\n",
      "Access to electricity (% of population)                                                   0\n",
      "Access to electricity (% of population)_roll3                                             0\n",
      "year                                                                                      0\n",
      "country_code                                                                              0\n",
      "Length: 136, dtype: int64\n",
      "\n",
      "Colonnes non numériques (hors id) :\n",
      "[]\n"
     ]
    }
   ],
   "source": [
    "id_cols = [\"country\", \"country_code\", \"year\"]\n",
    "\n",
    "# last look at the cleaned dataframe\n",
    "print(\"Columns:\", list(df_base.columns))   \n",
    "print(\"Shape:\", df_base.shape)\n",
    "print(\"\\nTypes :\")\n",
    "print(df_base.dtypes)\n",
    "\n",
    "print(\"\\nNA par colonne (desc) :\")\n",
    "print(df_base.isna().sum().sort_values(ascending=False))\n",
    "\n",
    "print(\"\\nColonnes non numériques (hors id) :\")\n",
    "non_num = (df_base.columns.difference(id_cols)\n",
    "           .difference(df_base.select_dtypes(include=[\"number\",\"bool\"]).columns))\n",
    "print(list(non_num))"
   ]
  },
  {
   "cell_type": "code",
   "execution_count": 9,
   "id": "f1805348",
   "metadata": {},
   "outputs": [
    {
     "name": "stdout",
     "output_type": "stream",
     "text": [
      "Literacy rate, adult total (% of people ages 15 and above)_yoy_yoy                     2662\n",
      "School enrollment, primary and secondary (gross), gender parity index (GPI)_yoy_yoy    2355\n",
      "Hospital beds (per 1,000 people)_yoy_yoy                                               1767\n",
      "Access to electricity (% of population)_yoy_yoy                                        1723\n",
      "Immunization, DPT (% of children ages 12-23 months)_yoy_yoy                            1592\n",
      "                                                                                       ... \n",
      "Literacy rate, adult total (% of people ages 15 and above)                               30\n",
      "Literacy rate, adult total (% of people ages 15 and above)_roll3                         30\n",
      "Mortality rate, infant (per 1,000 live births)                                           15\n",
      "School enrollment, primary and secondary (gross), gender parity index (GPI)              15\n",
      "School enrollment, primary and secondary (gross), gender parity index (GPI)_roll3        15\n",
      "Length: 132, dtype: int64\n"
     ]
    }
   ],
   "source": [
    "# convert features to numeric, coercing errors to NaN\n",
    "feat = df_base.columns.difference(id_cols)\n",
    "\n",
    "df_base[feat] = (df_base[feat]\n",
    "                      .replace({r\",\": \"\"}, regex=True)  # supprime séparateurs de milliers\n",
    "                      .apply(pd.to_numeric, errors=\"coerce\"))\n",
    "\n",
    "# Colonnes qui ont généré des NaN après conversion (suspects)\n",
    "suspects = df_base[feat].isna().sum()\n",
    "print(suspects[suspects > 0].sort_values(ascending=False))"
   ]
  },
  {
   "cell_type": "code",
   "execution_count": 10,
   "id": "24ffc16c",
   "metadata": {},
   "outputs": [],
   "source": [
    "# checking that all features (except IDs) are numeric\n",
    "assert df_base[feat].select_dtypes(exclude=[\"number\",\"bool\"]).empty, \\\n",
    "       f\"Non numériques: {list(df_base[feat].select_dtypes(exclude=['number','bool']).columns)}\""
   ]
  },
  {
   "cell_type": "code",
   "execution_count": 11,
   "id": "f691fa7a",
   "metadata": {},
   "outputs": [],
   "source": [
    "# make sure ID columns are of appropriate types\n",
    "\n",
    "id_cols = [c for c in [\"country\", \"country_code\", \"year\"] if c in df_base.columns]\n",
    "if \"year\" in df_base.columns:\n",
    "    df_base[\"year\"] = pd.to_numeric(df_base[\"year\"], errors=\"coerce\").astype(\"Int64\")"
   ]
  },
  {
   "cell_type": "code",
   "execution_count": 12,
   "id": "15e2ef6d",
   "metadata": {},
   "outputs": [],
   "source": [
    "# Both columns are guaranteed to exist and be numeric.(che = current health expenditure)\n",
    "che_pct = \"Current health expenditure (% of GDP)\"\n",
    "che_pc  = \"Current health expenditure per capita (current US$)\"\n",
    "\n",
    "\n",
    "# convert % -> share in [0,1]\n",
    "df_base[\"health_exp_share\"] = df_base[che_pct] / 100.0\n",
    "\n",
    "# stabilize heavy-tailed money values (safe: no log(0) since che_pc > 0)\n",
    "df_base[\"log1p_health_exp_pc\"] = np.log1p(df_base[che_pc])\n",
    "\n",
    "# GDP_pc = 100 * (che_pc / (che_pct / 100)) = 100 * che_pc / che_pct\n",
    "# only if che_pct > 0 and che_pc is not NaN\n",
    "mask = df_base[che_pct].gt(0) & df_base[che_pc].notna()\n",
    "df_base[\"GDP_pc_imputed\"] = np.where(\n",
    "    mask,\n",
    "    100 * df_base[che_pc] / df_base[che_pct],\n",
    "    np.nan\n",
    ")"
   ]
  },
  {
   "cell_type": "code",
   "execution_count": 13,
   "id": "93bc438a",
   "metadata": {},
   "outputs": [],
   "source": [
    "\n",
    "# Ensure year numeric for sorting/splits\n",
    "\n",
    "df_base[\"year\"] = pd.to_numeric(df_base[\"year\"], errors=\"coerce\").astype(\"Int64\")\n",
    "\n",
    "target_col = \"Mortality rate, infant (per 1,000 live births)\"\n",
    "assert target_col in df_base.columns, \"Target missing.\"\n",
    "\n",
    "df_base = df_base.sort_values([\"country_code\",\"year\"])\n",
    "df_base[\"y_t1\"] = df_base.groupby(\"country_code\")[target_col].shift(-1)"
   ]
  },
  {
   "cell_type": "code",
   "execution_count": 15,
   "id": "e537864e",
   "metadata": {},
   "outputs": [],
   "source": [
    "# 0) Make sure rows are ordered within each country for time ops\n",
    "df_base = df_base.sort_values([\"country_code\", \"year\"]).copy()\n",
    "\n",
    "# 1) AR(1) of the target (single insert is fine)\n",
    "df_base[f\"{target_col}_lag1\"] = (\n",
    "    df_base.groupby(\"country_code\", observed=True)[target_col].shift(1)\n",
    ")\n",
    "\n",
    "# 2) Define base features from ORIGINAL numeric cols (no derived ones)\n",
    "#    Exclude identifiers and the target; also exclude any existing *_lag1/_yoy just in case\n",
    "num_now = df_base.select_dtypes(include=[\"number\"]).columns\n",
    "base_feats = [c for c in num_now\n",
    "              if c not in {\"year\", target_col}\n",
    "              and not (str(c).endswith(\"_lag1\") or str(c).endswith(\"_yoy\"))]\n",
    "\n",
    "# 3) Compute ALL lag-1 columns at once (no loop)\n",
    "lag_df = (df_base.groupby(\"country_code\", observed=True)[base_feats]\n",
    "                 .shift(1)\n",
    "                 .add_suffix(\"_lag1\"))\n",
    "\n",
    "# 4) Compute ALL YoY % changes at once, with no implicit ffill (safer for forecasting)\n",
    "yoy_df = (df_base.groupby(\"country_code\", observed=True)[base_feats]\n",
    "                 .pct_change(fill_method=None)\n",
    "                 .replace([np.inf, -np.inf], np.nan)\n",
    "                 .add_suffix(\"_yoy\"))\n",
    "\n",
    "# 5) Single concat to avoid fragmentation; then defragment with a copy\n",
    "df_base = pd.concat([df_base, lag_df, yoy_df], axis=1)\n",
    "df_base = df_base.copy()  # defragment the underlying blocks"
   ]
  },
  {
   "cell_type": "code",
   "execution_count": 16,
   "id": "308be2c4",
   "metadata": {},
   "outputs": [
    {
     "name": "stdout",
     "output_type": "stream",
     "text": [
      "Panel shapes -> X: (3024, 420) | y: (3024,)\n"
     ]
    }
   ],
   "source": [
    "# Final shapes\n",
    "id_cols = [c for c in [\"country\",\"country_code\",\"year\"] if c in df_base.columns]\n",
    "mask = df_base[\"y_t1\"].notna()\n",
    "\n",
    "X_cols = df_base.columns.difference(id_cols + [target_col, \"y_t1\"])\n",
    "X = df_base.loc[mask, X_cols]\n",
    "y = df_base.loc[mask, \"y_t1\"]\n",
    "\n",
    "print(\"Panel shapes -> X:\", X.shape, \"| y:\", y.shape)"
   ]
  },
  {
   "cell_type": "code",
   "execution_count": 29,
   "id": "fd22556d",
   "metadata": {},
   "outputs": [
    {
     "name": "stdout",
     "output_type": "stream",
     "text": [
      "Reduced X shape: (3024, 149)\n"
     ]
    }
   ],
   "source": [
    "# === POINT A: Reduce X to robust features ===\n",
    "# Keep only: *_lag1, *_roll3, plus a few static engineered features if present.\n",
    "static_keep = [c for c in [\"health_exp_share\", \"log1p_health_exp_pc\", \"GDP_pc_imputed\"] if c in X.columns]\n",
    "\n",
    "X_reduced = pd.concat([\n",
    "    X.loc[:, [c for c in X.columns if c.endswith(\"_lag1\")]],\n",
    "    X.loc[:, [c for c in X.columns if c.endswith(\"_roll3\")]],\n",
    "    X.loc[:, static_keep]\n",
    "], axis=1)\n",
    "\n",
    "# Drop any accidental duplicate column names (can happen after multiple runs)\n",
    "X_reduced = X_reduced.loc[:, ~X_reduced.columns.duplicated()]\n",
    "\n",
    "print(\"Reduced X shape:\", X_reduced.shape)"
   ]
  },
  {
   "cell_type": "code",
   "execution_count": 30,
   "id": "109e3c36",
   "metadata": {},
   "outputs": [
    {
     "name": "stdout",
     "output_type": "stream",
     "text": [
      "13 time splits: [np.int64(2010), np.int64(2011), np.int64(2012), np.int64(2013), np.int64(2014), np.int64(2015), np.int64(2016), np.int64(2017), np.int64(2018), np.int64(2019), np.int64(2020), np.int64(2021), np.int64(2022), np.int64(2023)]\n"
     ]
    }
   ],
   "source": [
    "years = sorted(df_base.loc[mask, \"year\"].dropna().unique())\n",
    "splits = []\n",
    "for i in range(1, len(years)):\n",
    "    val_year  = years[i]          # validate on year t\n",
    "    train_max = years[i-1]        # train on years <= t-1\n",
    "    tr_idx = X.index[df_base.loc[mask, \"year\"] <= train_max]\n",
    "    va_idx = X.index[df_base.loc[mask, \"year\"] == val_year]\n",
    "    if len(tr_idx) and len(va_idx):\n",
    "        splits.append((val_year, tr_idx, va_idx))\n",
    "\n",
    "print(f\"{len(splits)} time splits:\", years)"
   ]
  },
  {
   "cell_type": "code",
   "execution_count": 33,
   "id": "62b62278",
   "metadata": {},
   "outputs": [],
   "source": [
    "def safe_rmse(y_true, y_pred):\n",
    "    \"\"\"Compute RMSE, compatible with older scikit-learn (fallback to sqrt(MSE)).\"\"\"\n",
    "    try:\n",
    "        from sklearn.metrics import root_mean_squared_error\n",
    "        return float(root_mean_squared_error(y_true, y_pred))\n",
    "    except Exception:\n",
    "        return float(np.sqrt(mean_squared_error(y_true, y_pred)))\n",
    "\n",
    "def align_non_null(y_true, y_pred):\n",
    "    \"\"\"Align by index, then drop rows where either side is NaN.\"\"\"\n",
    "    yt, yp = y_true.align(y_pred, join=\"inner\")\n",
    "    m = yt.notna() & yp.notna()\n",
    "    return yt[m], yp[m]"
   ]
  },
  {
   "cell_type": "code",
   "execution_count": 34,
   "id": "82a1d38b",
   "metadata": {},
   "outputs": [
    {
     "name": "stdout",
     "output_type": "stream",
     "text": [
      "    year  rmse_naive   rmse_ml\n",
      "0   2011    3.015185  6.418056\n",
      "1   2012    8.888874  3.955585\n",
      "2   2013    4.254741  4.274695\n",
      "3   2014    5.469812  5.162245\n",
      "4   2015    3.968236  4.558003\n",
      "5   2016    2.720694  4.139558\n",
      "6   2017    5.173034  3.263281\n",
      "7   2018    7.565400  3.953295\n",
      "8   2019    2.110237  2.554821\n",
      "9   2020    2.543783  1.662435\n",
      "10  2021    7.988861  7.390196\n",
      "11  2022    2.684549  3.133115\n",
      "12  2023    8.402973  5.064932\n",
      "Corrected median RMSE — naive: 4.255 | ML: 4.140 | Gain: 0.115\n"
     ]
    }
   ],
   "source": [
    "pipe = Pipeline([\n",
    "    (\"impute\", SimpleImputer(strategy=\"median\")),\n",
    "    (\"rf\", RandomForestRegressor(n_estimators=400, random_state=42, n_jobs=-1, min_samples_leaf=3)),\n",
    "])\n",
    "\n",
    "for (val_year, tr, va) in splits:\n",
    "    cols_keep = X_reduced.columns[X_reduced.loc[tr].notna().any(axis=0)]\n",
    "    if len(cols_keep) == 0:\n",
    "        continue\n",
    "\n",
    "    X_tr, y_tr = X_reduced.loc[tr, cols_keep], y.loc[tr]\n",
    "    X_va, y_va = X_reduced.loc[va, cols_keep], y.loc[va]\n",
    "\n",
    "    pipe.fit(X_tr, y_tr)\n",
    "    y_pred = pipe.predict(X_va)\n",
    "\n",
    "    yt, yp = align_non_null(y_va, pd.Series(y_pred, index=X_va.index))\n",
    "    if len(yt) == 0:\n",
    "        continue\n",
    "\n",
    "    rmse_ml = safe_rmse(yt, yp)\n",
    "    metrics_df.loc[metrics_df.year.eq(int(val_year)), \"rmse_ml\"] = rmse_ml\n",
    "\n",
    "# Compare medians on the same set of validation years\n",
    "df_eval = metrics_df.dropna(subset=[\"rmse_ml\"]).sort_values(\"year\")\n",
    "med_naive = float(np.median(df_eval.rmse_naive))\n",
    "med_ml    = float(np.median(df_eval.rmse_ml))\n",
    "print(df_eval[[\"year\",\"rmse_naive\",\"rmse_ml\"]])\n",
    "print(f\"Corrected median RMSE — naive: {med_naive:.3f} | ML: {med_ml:.3f} | Gain: {med_naive - med_ml:.3f}\")"
   ]
  },
  {
   "cell_type": "code",
   "execution_count": 39,
   "id": "587535e0",
   "metadata": {},
   "outputs": [
    {
     "name": "stdout",
     "output_type": "stream",
     "text": [
      "   country_code  year  year_input  year_pred     y_pred  target_last\n",
      "14          ABW  2024        2024       2025   4.751747         4.75\n",
      "29          AFG  2024        2024       2025  59.032847        61.35\n",
      "44          AGO  2024        2024       2025  47.439405        47.95\n",
      "59          ALB  2024        2024       2025   8.547565         8.05\n",
      "74          AND  2024        2024       2025   3.040339         3.15\n"
     ]
    }
   ],
   "source": [
    "# --- Final fit (already done above) ---\n",
    "# pipe.fit(X_reduced, y)\n",
    "\n",
    "# --- Build X_future robustly: dedupe columns, then align to training feature order ---\n",
    "last_year   = int(df_base[\"year\"].max())\n",
    "future_mask = (df_base[\"year\"] == last_year)   # do NOT filter with y_t1 here\n",
    "\n",
    "# 1) Freeze the exact training feature order\n",
    "try:\n",
    "    expected_cols = list(pipe.feature_names_in_)   # sklearn >= 1.0\n",
    "except Exception:\n",
    "    expected_cols = list(X_reduced.columns)        # fallback\n",
    "\n",
    "# 2) Take last-year rows and drop duplicate column names (keep first occurrence)\n",
    "future_raw = df_base.loc[future_mask].copy()\n",
    "future_raw = future_raw.loc[:, ~future_raw.columns.duplicated()]\n",
    "\n",
    "# (Optional, extra safety) If duplicates still exist for any reason, collapse by first:\n",
    "# future_raw = future_raw.T.groupby(level=0).first().T\n",
    "\n",
    "# 3) Reindex to the exact expected feature set and order\n",
    "#    - Missing columns will be added as NaN (the pipeline imputer will handle them).\n",
    "#    - Extra columns are dropped.\n",
    "X_future = future_raw.reindex(columns=expected_cols)\n",
    "\n",
    "# 4) Predict next year\n",
    "pred_next = pipe.predict(X_future)\n",
    "\n",
    "# 5) Package predictions\n",
    "pred_df = (df_base.loc[future_mask, id_cols]\n",
    "           .assign(year_input=last_year,\n",
    "                   year_pred=last_year + 1,\n",
    "                   y_pred=pred_next,\n",
    "                   target_last=df_base.loc[future_mask, target_col].values))\n",
    "\n",
    "print(pred_df.head())"
   ]
  },
  {
   "cell_type": "code",
   "execution_count": 42,
   "id": "b0c81b43",
   "metadata": {},
   "outputs": [
    {
     "name": "stdout",
     "output_type": "stream",
     "text": [
      "Saved backtest metrics → /Users/pm/Documents/GitHub/ML_Project_1/docs/metrics_backtest.csv\n",
      "Saved next-year predictions → /Users/pm/Documents/GitHub/ML_Project_1/data/processed/preds_next_year.csv\n",
      "Saved trained model → /Users/pm/Documents/GitHub/ML_Project_1/models/trained_model.pkl\n",
      "Saved training feature list → /Users/pm/Documents/GitHub/ML_Project_1/data/processed/feature_cols_training.txt\n"
     ]
    }
   ],
   "source": [
    "# Save metrics, predictions, model, and feature list\n",
    "ROOT = Path(\"..\").resolve()\n",
    "\n",
    "PATH_METRICS = ROOT / \"docs\" / \"metrics_backtest.csv\"\n",
    "PATH_PREDS   = ROOT / \"data\" / \"processed\" / \"preds_next_year.csv\"\n",
    "PATH_MODEL   = ROOT / \"models\" / \"trained_model.pkl\"\n",
    "PATH_FEATS   = ROOT / \"data\" / \"processed\" / \"feature_cols_training.txt\"\n",
    "\n",
    "# Create folders if they don't exist\n",
    "for p in [PATH_METRICS.parent, PATH_PREDS.parent, PATH_MODEL.parent, PATH_FEATS.parent]:\n",
    "    p.mkdir(parents=True, exist_ok=True)\n",
    "# export predictions\n",
    "assert 'metrics_df' in globals(), \"metrics_df is missing. Run your backtest cell first.\"\n",
    "metrics_df.to_csv(PATH_METRICS, index=False, encoding=\"utf-8-sig\")\n",
    "print(f\"Saved backtest metrics → {PATH_METRICS}\")\n",
    "\n",
    "# save feature list\n",
    "assert 'pred_df' in globals() and not pred_df.empty, \"pred_df is missing or empty. Build it before exporting.\"\n",
    "pred_df.to_csv(PATH_PREDS, index=False, encoding=\"utf-8-sig\")\n",
    "print(f\"Saved next-year predictions → {PATH_PREDS}\")\n",
    "# export feature list\n",
    "assert 'pipe' in globals(), \"Trained model 'pipe' not found. Fit it or assign your model to 'pipe'.\"\n",
    "joblib.dump(pipe, PATH_MODEL)\n",
    "print(f\"Saved trained model → {PATH_MODEL}\")\n",
    "# export feature list in exact training order\n",
    "try:\n",
    "    feature_names = list(pipe.feature_names_in_)   # sklearn >= 1.0\n",
    "except Exception:\n",
    "    # Fallback: use the columns you trained on (prefer X_reduced if that's what you used)\n",
    "    if 'X_reduced' in globals():\n",
    "        feature_names = list(X_reduced.columns)\n",
    "    elif 'X' in globals():\n",
    "        feature_names = list(X.columns)\n",
    "    else:\n",
    "        raise RuntimeError(\"Cannot infer training feature names. Provide X_reduced or X.\")\n",
    "\n",
    "pd.Series(feature_names).to_csv(PATH_FEATS, index=False, header=False)\n",
    "print(f\"Saved training feature list → {PATH_FEATS}\")"
   ]
  }
 ],
 "metadata": {
  "kernelspec": {
   "display_name": "Python 3",
   "language": "python",
   "name": "python3"
  },
  "language_info": {
   "codemirror_mode": {
    "name": "ipython",
    "version": 3
   },
   "file_extension": ".py",
   "mimetype": "text/x-python",
   "name": "python",
   "nbconvert_exporter": "python",
   "pygments_lexer": "ipython3",
   "version": "3.13.2"
  }
 },
 "nbformat": 4,
 "nbformat_minor": 5
}
